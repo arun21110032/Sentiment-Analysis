{
 "cells": [
  {
   "cell_type": "markdown",
   "id": "3b5a7f30",
   "metadata": {},
   "source": [
    "## Libraries"
   ]
  },
  {
   "cell_type": "code",
   "execution_count": 38,
   "id": "ffdedc3e",
   "metadata": {},
   "outputs": [],
   "source": [
    "import numpy as np\n",
    "import pandas as pd\n",
    "import re\n",
    "import nltk\n",
    "from nltk.corpus import stopwords\n",
    "import emoji\n",
    "from nltk.stem import WordNetLemmatizer\n",
    "from sklearn.preprocessing import LabelEncoder\n",
    "from sklearn.model_selection import train_test_split\n",
    "from nltk.tokenize import word_tokenize\n",
    "from sklearn.feature_extraction.text import TfidfVectorizer\n",
    "from sklearn.model_selection import train_test_split\n",
    "from sklearn.naive_bayes import MultinomialNB\n",
    "from sklearn.metrics import accuracy_score, classification_report\n",
    "from xgboost import XGBClassifier\n",
    "import tensorflow as tf\n",
    "from tensorflow.keras.models import Sequential\n",
    "from keras.layers import Embedding,LSTM,Dense,Dropout,Bidirectional\n",
    "from tensorflow.keras.utils import pad_sequences \n",
    "from tensorflow.keras.preprocessing.text import Tokenizer "
   ]
  },
  {
   "cell_type": "markdown",
   "id": "843ff126",
   "metadata": {},
   "source": [
    "## Data preprocessing"
   ]
  },
  {
   "cell_type": "code",
   "execution_count": 2,
   "id": "714f547e",
   "metadata": {},
   "outputs": [
    {
     "name": "stderr",
     "output_type": "stream",
     "text": [
      "[nltk_data] Downloading package stopwords to\n",
      "[nltk_data]     C:\\Users\\kasir\\AppData\\Roaming\\nltk_data...\n",
      "[nltk_data]   Package stopwords is already up-to-date!\n"
     ]
    },
    {
     "data": {
      "text/plain": [
       "True"
      ]
     },
     "execution_count": 2,
     "metadata": {},
     "output_type": "execute_result"
    }
   ],
   "source": [
    "nltk.download('stopwords')"
   ]
  },
  {
   "cell_type": "code",
   "execution_count": 3,
   "id": "87ff6ddd",
   "metadata": {},
   "outputs": [
    {
     "data": {
      "text/html": [
       "<div>\n",
       "<style scoped>\n",
       "    .dataframe tbody tr th:only-of-type {\n",
       "        vertical-align: middle;\n",
       "    }\n",
       "\n",
       "    .dataframe tbody tr th {\n",
       "        vertical-align: top;\n",
       "    }\n",
       "\n",
       "    .dataframe thead th {\n",
       "        text-align: right;\n",
       "    }\n",
       "</style>\n",
       "<table border=\"1\" class=\"dataframe\">\n",
       "  <thead>\n",
       "    <tr style=\"text-align: right;\">\n",
       "      <th></th>\n",
       "      <th>name</th>\n",
       "      <th>location</th>\n",
       "      <th>Date</th>\n",
       "      <th>Rating</th>\n",
       "      <th>Review</th>\n",
       "      <th>Image_Links</th>\n",
       "    </tr>\n",
       "  </thead>\n",
       "  <tbody>\n",
       "    <tr>\n",
       "      <th>0</th>\n",
       "      <td>Helen</td>\n",
       "      <td>Wichita Falls, TX</td>\n",
       "      <td>Reviewed Sept. 13, 2023</td>\n",
       "      <td>5.0</td>\n",
       "      <td>Amber and LaDonna at the Starbucks on Southwes...</td>\n",
       "      <td>['No Images']</td>\n",
       "    </tr>\n",
       "    <tr>\n",
       "      <th>1</th>\n",
       "      <td>Courtney</td>\n",
       "      <td>Apopka, FL</td>\n",
       "      <td>Reviewed July 16, 2023</td>\n",
       "      <td>5.0</td>\n",
       "      <td>** at the Starbucks by the fire station on 436...</td>\n",
       "      <td>['No Images']</td>\n",
       "    </tr>\n",
       "    <tr>\n",
       "      <th>2</th>\n",
       "      <td>Daynelle</td>\n",
       "      <td>Cranberry Twp, PA</td>\n",
       "      <td>Reviewed July 5, 2023</td>\n",
       "      <td>5.0</td>\n",
       "      <td>I just wanted to go out of my way to recognize...</td>\n",
       "      <td>['https://media.consumeraffairs.com/files/cach...</td>\n",
       "    </tr>\n",
       "    <tr>\n",
       "      <th>3</th>\n",
       "      <td>Taylor</td>\n",
       "      <td>Seattle, WA</td>\n",
       "      <td>Reviewed May 26, 2023</td>\n",
       "      <td>5.0</td>\n",
       "      <td>Me and my friend were at Starbucks and my card...</td>\n",
       "      <td>['No Images']</td>\n",
       "    </tr>\n",
       "    <tr>\n",
       "      <th>4</th>\n",
       "      <td>Tenessa</td>\n",
       "      <td>Gresham, OR</td>\n",
       "      <td>Reviewed Jan. 22, 2023</td>\n",
       "      <td>5.0</td>\n",
       "      <td>I’m on this kick of drinking 5 cups of warm wa...</td>\n",
       "      <td>['https://media.consumeraffairs.com/files/cach...</td>\n",
       "    </tr>\n",
       "    <tr>\n",
       "      <th>...</th>\n",
       "      <td>...</td>\n",
       "      <td>...</td>\n",
       "      <td>...</td>\n",
       "      <td>...</td>\n",
       "      <td>...</td>\n",
       "      <td>...</td>\n",
       "    </tr>\n",
       "    <tr>\n",
       "      <th>845</th>\n",
       "      <td>Becky</td>\n",
       "      <td>Agoura Hills, CA</td>\n",
       "      <td>Reviewed July 13, 2006</td>\n",
       "      <td>NaN</td>\n",
       "      <td>I ordered two venti frappacino's without whipp...</td>\n",
       "      <td>['No Images']</td>\n",
       "    </tr>\n",
       "    <tr>\n",
       "      <th>846</th>\n",
       "      <td>Bob</td>\n",
       "      <td>Goodrich, MI</td>\n",
       "      <td>Reviewed Jan. 3, 2005</td>\n",
       "      <td>NaN</td>\n",
       "      <td>No Review Text</td>\n",
       "      <td>['No Images']</td>\n",
       "    </tr>\n",
       "    <tr>\n",
       "      <th>847</th>\n",
       "      <td>Erik</td>\n",
       "      <td>Valley Village, CA</td>\n",
       "      <td>Reviewed Nov. 5, 2004</td>\n",
       "      <td>NaN</td>\n",
       "      <td>DEMANDED TIPS FROM ME, THEN MADE ME WAIT UNTIL...</td>\n",
       "      <td>['No Images']</td>\n",
       "    </tr>\n",
       "    <tr>\n",
       "      <th>848</th>\n",
       "      <td>Andrew</td>\n",
       "      <td>Fallbrook, CA</td>\n",
       "      <td>Reviewed Oct. 20, 2004</td>\n",
       "      <td>NaN</td>\n",
       "      <td>No Review Text</td>\n",
       "      <td>['No Images']</td>\n",
       "    </tr>\n",
       "    <tr>\n",
       "      <th>849</th>\n",
       "      <td>Christian</td>\n",
       "      <td>Ramsey, NJ</td>\n",
       "      <td>Reviewed July 19, 2000</td>\n",
       "      <td>NaN</td>\n",
       "      <td>No Review Text</td>\n",
       "      <td>['No Images']</td>\n",
       "    </tr>\n",
       "  </tbody>\n",
       "</table>\n",
       "<p>850 rows × 6 columns</p>\n",
       "</div>"
      ],
      "text/plain": [
       "          name            location                     Date  Rating  \\\n",
       "0        Helen   Wichita Falls, TX  Reviewed Sept. 13, 2023     5.0   \n",
       "1     Courtney          Apopka, FL   Reviewed July 16, 2023     5.0   \n",
       "2     Daynelle   Cranberry Twp, PA    Reviewed July 5, 2023     5.0   \n",
       "3       Taylor         Seattle, WA    Reviewed May 26, 2023     5.0   \n",
       "4      Tenessa         Gresham, OR   Reviewed Jan. 22, 2023     5.0   \n",
       "..         ...                 ...                      ...     ...   \n",
       "845      Becky    Agoura Hills, CA   Reviewed July 13, 2006     NaN   \n",
       "846        Bob        Goodrich, MI    Reviewed Jan. 3, 2005     NaN   \n",
       "847       Erik  Valley Village, CA    Reviewed Nov. 5, 2004     NaN   \n",
       "848     Andrew       Fallbrook, CA   Reviewed Oct. 20, 2004     NaN   \n",
       "849  Christian          Ramsey, NJ   Reviewed July 19, 2000     NaN   \n",
       "\n",
       "                                                Review  \\\n",
       "0    Amber and LaDonna at the Starbucks on Southwes...   \n",
       "1    ** at the Starbucks by the fire station on 436...   \n",
       "2    I just wanted to go out of my way to recognize...   \n",
       "3    Me and my friend were at Starbucks and my card...   \n",
       "4    I’m on this kick of drinking 5 cups of warm wa...   \n",
       "..                                                 ...   \n",
       "845  I ordered two venti frappacino's without whipp...   \n",
       "846                                     No Review Text   \n",
       "847  DEMANDED TIPS FROM ME, THEN MADE ME WAIT UNTIL...   \n",
       "848                                     No Review Text   \n",
       "849                                     No Review Text   \n",
       "\n",
       "                                           Image_Links  \n",
       "0                                        ['No Images']  \n",
       "1                                        ['No Images']  \n",
       "2    ['https://media.consumeraffairs.com/files/cach...  \n",
       "3                                        ['No Images']  \n",
       "4    ['https://media.consumeraffairs.com/files/cach...  \n",
       "..                                                 ...  \n",
       "845                                      ['No Images']  \n",
       "846                                      ['No Images']  \n",
       "847                                      ['No Images']  \n",
       "848                                      ['No Images']  \n",
       "849                                      ['No Images']  \n",
       "\n",
       "[850 rows x 6 columns]"
      ]
     },
     "execution_count": 3,
     "metadata": {},
     "output_type": "execute_result"
    }
   ],
   "source": [
    "df=pd.read_csv('reviews_data.csv')\n",
    "df"
   ]
  },
  {
   "cell_type": "code",
   "execution_count": 4,
   "id": "798d9f7f",
   "metadata": {},
   "outputs": [
    {
     "data": {
      "text/html": [
       "<div>\n",
       "<style scoped>\n",
       "    .dataframe tbody tr th:only-of-type {\n",
       "        vertical-align: middle;\n",
       "    }\n",
       "\n",
       "    .dataframe tbody tr th {\n",
       "        vertical-align: top;\n",
       "    }\n",
       "\n",
       "    .dataframe thead th {\n",
       "        text-align: right;\n",
       "    }\n",
       "</style>\n",
       "<table border=\"1\" class=\"dataframe\">\n",
       "  <thead>\n",
       "    <tr style=\"text-align: right;\">\n",
       "      <th></th>\n",
       "      <th>name</th>\n",
       "      <th>location</th>\n",
       "      <th>Date</th>\n",
       "      <th>Rating</th>\n",
       "      <th>Review</th>\n",
       "    </tr>\n",
       "  </thead>\n",
       "  <tbody>\n",
       "    <tr>\n",
       "      <th>0</th>\n",
       "      <td>Helen</td>\n",
       "      <td>Wichita Falls, TX</td>\n",
       "      <td>Reviewed Sept. 13, 2023</td>\n",
       "      <td>5.0</td>\n",
       "      <td>Amber and LaDonna at the Starbucks on Southwes...</td>\n",
       "    </tr>\n",
       "    <tr>\n",
       "      <th>1</th>\n",
       "      <td>Courtney</td>\n",
       "      <td>Apopka, FL</td>\n",
       "      <td>Reviewed July 16, 2023</td>\n",
       "      <td>5.0</td>\n",
       "      <td>** at the Starbucks by the fire station on 436...</td>\n",
       "    </tr>\n",
       "    <tr>\n",
       "      <th>2</th>\n",
       "      <td>Daynelle</td>\n",
       "      <td>Cranberry Twp, PA</td>\n",
       "      <td>Reviewed July 5, 2023</td>\n",
       "      <td>5.0</td>\n",
       "      <td>I just wanted to go out of my way to recognize...</td>\n",
       "    </tr>\n",
       "    <tr>\n",
       "      <th>3</th>\n",
       "      <td>Taylor</td>\n",
       "      <td>Seattle, WA</td>\n",
       "      <td>Reviewed May 26, 2023</td>\n",
       "      <td>5.0</td>\n",
       "      <td>Me and my friend were at Starbucks and my card...</td>\n",
       "    </tr>\n",
       "    <tr>\n",
       "      <th>4</th>\n",
       "      <td>Tenessa</td>\n",
       "      <td>Gresham, OR</td>\n",
       "      <td>Reviewed Jan. 22, 2023</td>\n",
       "      <td>5.0</td>\n",
       "      <td>I’m on this kick of drinking 5 cups of warm wa...</td>\n",
       "    </tr>\n",
       "  </tbody>\n",
       "</table>\n",
       "</div>"
      ],
      "text/plain": [
       "       name           location                     Date  Rating  \\\n",
       "0     Helen  Wichita Falls, TX  Reviewed Sept. 13, 2023     5.0   \n",
       "1  Courtney         Apopka, FL   Reviewed July 16, 2023     5.0   \n",
       "2  Daynelle  Cranberry Twp, PA    Reviewed July 5, 2023     5.0   \n",
       "3    Taylor        Seattle, WA    Reviewed May 26, 2023     5.0   \n",
       "4   Tenessa        Gresham, OR   Reviewed Jan. 22, 2023     5.0   \n",
       "\n",
       "                                              Review  \n",
       "0  Amber and LaDonna at the Starbucks on Southwes...  \n",
       "1  ** at the Starbucks by the fire station on 436...  \n",
       "2  I just wanted to go out of my way to recognize...  \n",
       "3  Me and my friend were at Starbucks and my card...  \n",
       "4  I’m on this kick of drinking 5 cups of warm wa...  "
      ]
     },
     "execution_count": 4,
     "metadata": {},
     "output_type": "execute_result"
    }
   ],
   "source": [
    "df.drop('Image_Links',inplace=True,axis=1)\n",
    "df.head()"
   ]
  },
  {
   "cell_type": "code",
   "execution_count": 5,
   "id": "e25b429f",
   "metadata": {},
   "outputs": [
    {
     "data": {
      "text/html": [
       "<div>\n",
       "<style scoped>\n",
       "    .dataframe tbody tr th:only-of-type {\n",
       "        vertical-align: middle;\n",
       "    }\n",
       "\n",
       "    .dataframe tbody tr th {\n",
       "        vertical-align: top;\n",
       "    }\n",
       "\n",
       "    .dataframe thead th {\n",
       "        text-align: right;\n",
       "    }\n",
       "</style>\n",
       "<table border=\"1\" class=\"dataframe\">\n",
       "  <thead>\n",
       "    <tr style=\"text-align: right;\">\n",
       "      <th></th>\n",
       "      <th>name</th>\n",
       "      <th>location</th>\n",
       "      <th>Date</th>\n",
       "      <th>Rating</th>\n",
       "      <th>Review</th>\n",
       "    </tr>\n",
       "  </thead>\n",
       "  <tbody>\n",
       "    <tr>\n",
       "      <th>0</th>\n",
       "      <td>Helen</td>\n",
       "      <td>Wichita Falls, TX</td>\n",
       "      <td>Reviewed Sept. 13, 2023</td>\n",
       "      <td>5.0</td>\n",
       "      <td>Amber and LaDonna at the Starbucks on Southwes...</td>\n",
       "    </tr>\n",
       "    <tr>\n",
       "      <th>1</th>\n",
       "      <td>Courtney</td>\n",
       "      <td>Apopka, FL</td>\n",
       "      <td>Reviewed July 16, 2023</td>\n",
       "      <td>5.0</td>\n",
       "      <td>** at the Starbucks by the fire station on 436...</td>\n",
       "    </tr>\n",
       "    <tr>\n",
       "      <th>2</th>\n",
       "      <td>Daynelle</td>\n",
       "      <td>Cranberry Twp, PA</td>\n",
       "      <td>Reviewed July 5, 2023</td>\n",
       "      <td>5.0</td>\n",
       "      <td>I just wanted to go out of my way to recognize...</td>\n",
       "    </tr>\n",
       "    <tr>\n",
       "      <th>3</th>\n",
       "      <td>Taylor</td>\n",
       "      <td>Seattle, WA</td>\n",
       "      <td>Reviewed May 26, 2023</td>\n",
       "      <td>5.0</td>\n",
       "      <td>Me and my friend were at Starbucks and my card...</td>\n",
       "    </tr>\n",
       "    <tr>\n",
       "      <th>4</th>\n",
       "      <td>Tenessa</td>\n",
       "      <td>Gresham, OR</td>\n",
       "      <td>Reviewed Jan. 22, 2023</td>\n",
       "      <td>5.0</td>\n",
       "      <td>I’m on this kick of drinking 5 cups of warm wa...</td>\n",
       "    </tr>\n",
       "    <tr>\n",
       "      <th>...</th>\n",
       "      <td>...</td>\n",
       "      <td>...</td>\n",
       "      <td>...</td>\n",
       "      <td>...</td>\n",
       "      <td>...</td>\n",
       "    </tr>\n",
       "    <tr>\n",
       "      <th>841</th>\n",
       "      <td>Mary</td>\n",
       "      <td>Hillsboro, OR</td>\n",
       "      <td>Reviewed Dec. 16, 2007</td>\n",
       "      <td>NaN</td>\n",
       "      <td>When using my debit card, how much and for how...</td>\n",
       "    </tr>\n",
       "    <tr>\n",
       "      <th>842</th>\n",
       "      <td>Angie</td>\n",
       "      <td>Innsbruck, OR</td>\n",
       "      <td>Reviewed Sept. 17, 2007</td>\n",
       "      <td>NaN</td>\n",
       "      <td>I just bought a starbucks thermos mug about a ...</td>\n",
       "    </tr>\n",
       "    <tr>\n",
       "      <th>844</th>\n",
       "      <td>Sabine</td>\n",
       "      <td>Redondo Beach, CA</td>\n",
       "      <td>Reviewed Dec. 19, 2006</td>\n",
       "      <td>NaN</td>\n",
       "      <td>I'm (was) a regular customer who ordered a lat...</td>\n",
       "    </tr>\n",
       "    <tr>\n",
       "      <th>845</th>\n",
       "      <td>Becky</td>\n",
       "      <td>Agoura Hills, CA</td>\n",
       "      <td>Reviewed July 13, 2006</td>\n",
       "      <td>NaN</td>\n",
       "      <td>I ordered two venti frappacino's without whipp...</td>\n",
       "    </tr>\n",
       "    <tr>\n",
       "      <th>847</th>\n",
       "      <td>Erik</td>\n",
       "      <td>Valley Village, CA</td>\n",
       "      <td>Reviewed Nov. 5, 2004</td>\n",
       "      <td>NaN</td>\n",
       "      <td>DEMANDED TIPS FROM ME, THEN MADE ME WAIT UNTIL...</td>\n",
       "    </tr>\n",
       "  </tbody>\n",
       "</table>\n",
       "<p>813 rows × 5 columns</p>\n",
       "</div>"
      ],
      "text/plain": [
       "         name            location                     Date  Rating  \\\n",
       "0       Helen   Wichita Falls, TX  Reviewed Sept. 13, 2023     5.0   \n",
       "1    Courtney          Apopka, FL   Reviewed July 16, 2023     5.0   \n",
       "2    Daynelle   Cranberry Twp, PA    Reviewed July 5, 2023     5.0   \n",
       "3      Taylor         Seattle, WA    Reviewed May 26, 2023     5.0   \n",
       "4     Tenessa         Gresham, OR   Reviewed Jan. 22, 2023     5.0   \n",
       "..        ...                 ...                      ...     ...   \n",
       "841      Mary       Hillsboro, OR   Reviewed Dec. 16, 2007     NaN   \n",
       "842     Angie       Innsbruck, OR  Reviewed Sept. 17, 2007     NaN   \n",
       "844    Sabine   Redondo Beach, CA   Reviewed Dec. 19, 2006     NaN   \n",
       "845     Becky    Agoura Hills, CA   Reviewed July 13, 2006     NaN   \n",
       "847      Erik  Valley Village, CA    Reviewed Nov. 5, 2004     NaN   \n",
       "\n",
       "                                                Review  \n",
       "0    Amber and LaDonna at the Starbucks on Southwes...  \n",
       "1    ** at the Starbucks by the fire station on 436...  \n",
       "2    I just wanted to go out of my way to recognize...  \n",
       "3    Me and my friend were at Starbucks and my card...  \n",
       "4    I’m on this kick of drinking 5 cups of warm wa...  \n",
       "..                                                 ...  \n",
       "841  When using my debit card, how much and for how...  \n",
       "842  I just bought a starbucks thermos mug about a ...  \n",
       "844  I'm (was) a regular customer who ordered a lat...  \n",
       "845  I ordered two venti frappacino's without whipp...  \n",
       "847  DEMANDED TIPS FROM ME, THEN MADE ME WAIT UNTIL...  \n",
       "\n",
       "[813 rows x 5 columns]"
      ]
     },
     "execution_count": 5,
     "metadata": {},
     "output_type": "execute_result"
    }
   ],
   "source": [
    "df1=df[df['Review']!='No Review Text']\n",
    "df1"
   ]
  },
  {
   "cell_type": "code",
   "execution_count": 6,
   "id": "f5b40730",
   "metadata": {},
   "outputs": [
    {
     "data": {
      "text/plain": [
       "1.0    450\n",
       "2.0     98\n",
       "5.0     83\n",
       "4.0     39\n",
       "3.0     33\n",
       "Name: Rating, dtype: int64"
      ]
     },
     "execution_count": 6,
     "metadata": {},
     "output_type": "execute_result"
    }
   ],
   "source": [
    "df1['Rating'].value_counts()"
   ]
  },
  {
   "cell_type": "code",
   "execution_count": 7,
   "id": "6f9239e7",
   "metadata": {},
   "outputs": [
    {
     "data": {
      "text/plain": [
       "name          0\n",
       "location      0\n",
       "Date          0\n",
       "Rating      110\n",
       "Review        0\n",
       "dtype: int64"
      ]
     },
     "execution_count": 7,
     "metadata": {},
     "output_type": "execute_result"
    }
   ],
   "source": [
    "df1.isnull().sum()"
   ]
  },
  {
   "cell_type": "code",
   "execution_count": 8,
   "id": "4337c760",
   "metadata": {},
   "outputs": [
    {
     "data": {
      "text/html": [
       "<div>\n",
       "<style scoped>\n",
       "    .dataframe tbody tr th:only-of-type {\n",
       "        vertical-align: middle;\n",
       "    }\n",
       "\n",
       "    .dataframe tbody tr th {\n",
       "        vertical-align: top;\n",
       "    }\n",
       "\n",
       "    .dataframe thead th {\n",
       "        text-align: right;\n",
       "    }\n",
       "</style>\n",
       "<table border=\"1\" class=\"dataframe\">\n",
       "  <thead>\n",
       "    <tr style=\"text-align: right;\">\n",
       "      <th></th>\n",
       "      <th>name</th>\n",
       "      <th>location</th>\n",
       "      <th>Date</th>\n",
       "      <th>Rating</th>\n",
       "      <th>Review</th>\n",
       "    </tr>\n",
       "  </thead>\n",
       "  <tbody>\n",
       "    <tr>\n",
       "      <th>704</th>\n",
       "      <td>James</td>\n",
       "      <td>Kansas City, MO</td>\n",
       "      <td>Reviewed July 25, 2011</td>\n",
       "      <td>NaN</td>\n",
       "      <td>I just wanted to amend my email the I sent to ...</td>\n",
       "    </tr>\n",
       "    <tr>\n",
       "      <th>705</th>\n",
       "      <td>James</td>\n",
       "      <td>Kansas City, MO</td>\n",
       "      <td>Reviewed July 25, 2011</td>\n",
       "      <td>NaN</td>\n",
       "      <td>Recently, I have gone to your Starbucks at Bar...</td>\n",
       "    </tr>\n",
       "    <tr>\n",
       "      <th>706</th>\n",
       "      <td>Mike</td>\n",
       "      <td>Revere, ma</td>\n",
       "      <td>Reviewed June 26, 2011</td>\n",
       "      <td>NaN</td>\n",
       "      <td>Upon my first visit to this location on my way...</td>\n",
       "    </tr>\n",
       "    <tr>\n",
       "      <th>707</th>\n",
       "      <td>Hughes</td>\n",
       "      <td>Macclesfield, Other</td>\n",
       "      <td>Reviewed Jan. 13, 2011</td>\n",
       "      <td>NaN</td>\n",
       "      <td>Recently, British Royal Marines in Iraq wrote ...</td>\n",
       "    </tr>\n",
       "    <tr>\n",
       "      <th>708</th>\n",
       "      <td>Sherrilynn</td>\n",
       "      <td>Jenison, MI</td>\n",
       "      <td>Reviewed Jan. 4, 2011</td>\n",
       "      <td>NaN</td>\n",
       "      <td>On the way to catch our plane, we got a medium...</td>\n",
       "    </tr>\n",
       "    <tr>\n",
       "      <th>...</th>\n",
       "      <td>...</td>\n",
       "      <td>...</td>\n",
       "      <td>...</td>\n",
       "      <td>...</td>\n",
       "      <td>...</td>\n",
       "    </tr>\n",
       "    <tr>\n",
       "      <th>841</th>\n",
       "      <td>Mary</td>\n",
       "      <td>Hillsboro, OR</td>\n",
       "      <td>Reviewed Dec. 16, 2007</td>\n",
       "      <td>NaN</td>\n",
       "      <td>When using my debit card, how much and for how...</td>\n",
       "    </tr>\n",
       "    <tr>\n",
       "      <th>842</th>\n",
       "      <td>Angie</td>\n",
       "      <td>Innsbruck, OR</td>\n",
       "      <td>Reviewed Sept. 17, 2007</td>\n",
       "      <td>NaN</td>\n",
       "      <td>I just bought a starbucks thermos mug about a ...</td>\n",
       "    </tr>\n",
       "    <tr>\n",
       "      <th>844</th>\n",
       "      <td>Sabine</td>\n",
       "      <td>Redondo Beach, CA</td>\n",
       "      <td>Reviewed Dec. 19, 2006</td>\n",
       "      <td>NaN</td>\n",
       "      <td>I'm (was) a regular customer who ordered a lat...</td>\n",
       "    </tr>\n",
       "    <tr>\n",
       "      <th>845</th>\n",
       "      <td>Becky</td>\n",
       "      <td>Agoura Hills, CA</td>\n",
       "      <td>Reviewed July 13, 2006</td>\n",
       "      <td>NaN</td>\n",
       "      <td>I ordered two venti frappacino's without whipp...</td>\n",
       "    </tr>\n",
       "    <tr>\n",
       "      <th>847</th>\n",
       "      <td>Erik</td>\n",
       "      <td>Valley Village, CA</td>\n",
       "      <td>Reviewed Nov. 5, 2004</td>\n",
       "      <td>NaN</td>\n",
       "      <td>DEMANDED TIPS FROM ME, THEN MADE ME WAIT UNTIL...</td>\n",
       "    </tr>\n",
       "  </tbody>\n",
       "</table>\n",
       "<p>110 rows × 5 columns</p>\n",
       "</div>"
      ],
      "text/plain": [
       "           name             location                     Date  Rating  \\\n",
       "704       James      Kansas City, MO   Reviewed July 25, 2011     NaN   \n",
       "705       James      Kansas City, MO   Reviewed July 25, 2011     NaN   \n",
       "706        Mike           Revere, ma   Reviewed June 26, 2011     NaN   \n",
       "707      Hughes  Macclesfield, Other   Reviewed Jan. 13, 2011     NaN   \n",
       "708  Sherrilynn          Jenison, MI    Reviewed Jan. 4, 2011     NaN   \n",
       "..          ...                  ...                      ...     ...   \n",
       "841        Mary        Hillsboro, OR   Reviewed Dec. 16, 2007     NaN   \n",
       "842       Angie        Innsbruck, OR  Reviewed Sept. 17, 2007     NaN   \n",
       "844      Sabine    Redondo Beach, CA   Reviewed Dec. 19, 2006     NaN   \n",
       "845       Becky     Agoura Hills, CA   Reviewed July 13, 2006     NaN   \n",
       "847        Erik   Valley Village, CA    Reviewed Nov. 5, 2004     NaN   \n",
       "\n",
       "                                                Review  \n",
       "704  I just wanted to amend my email the I sent to ...  \n",
       "705  Recently, I have gone to your Starbucks at Bar...  \n",
       "706  Upon my first visit to this location on my way...  \n",
       "707  Recently, British Royal Marines in Iraq wrote ...  \n",
       "708  On the way to catch our plane, we got a medium...  \n",
       "..                                                 ...  \n",
       "841  When using my debit card, how much and for how...  \n",
       "842  I just bought a starbucks thermos mug about a ...  \n",
       "844  I'm (was) a regular customer who ordered a lat...  \n",
       "845  I ordered two venti frappacino's without whipp...  \n",
       "847  DEMANDED TIPS FROM ME, THEN MADE ME WAIT UNTIL...  \n",
       "\n",
       "[110 rows x 5 columns]"
      ]
     },
     "execution_count": 8,
     "metadata": {},
     "output_type": "execute_result"
    }
   ],
   "source": [
    "dftest1=df1[df1.isnull().any(axis=1)]\n",
    "dftest1"
   ]
  },
  {
   "cell_type": "code",
   "execution_count": 9,
   "id": "033a0333",
   "metadata": {},
   "outputs": [
    {
     "data": {
      "text/html": [
       "<div>\n",
       "<style scoped>\n",
       "    .dataframe tbody tr th:only-of-type {\n",
       "        vertical-align: middle;\n",
       "    }\n",
       "\n",
       "    .dataframe tbody tr th {\n",
       "        vertical-align: top;\n",
       "    }\n",
       "\n",
       "    .dataframe thead th {\n",
       "        text-align: right;\n",
       "    }\n",
       "</style>\n",
       "<table border=\"1\" class=\"dataframe\">\n",
       "  <thead>\n",
       "    <tr style=\"text-align: right;\">\n",
       "      <th></th>\n",
       "      <th>Review</th>\n",
       "      <th>Rating</th>\n",
       "    </tr>\n",
       "  </thead>\n",
       "  <tbody>\n",
       "    <tr>\n",
       "      <th>0</th>\n",
       "      <td>Amber and LaDonna at the Starbucks on Southwes...</td>\n",
       "      <td>5.0</td>\n",
       "    </tr>\n",
       "    <tr>\n",
       "      <th>1</th>\n",
       "      <td>** at the Starbucks by the fire station on 436...</td>\n",
       "      <td>5.0</td>\n",
       "    </tr>\n",
       "    <tr>\n",
       "      <th>2</th>\n",
       "      <td>I just wanted to go out of my way to recognize...</td>\n",
       "      <td>5.0</td>\n",
       "    </tr>\n",
       "    <tr>\n",
       "      <th>3</th>\n",
       "      <td>Me and my friend were at Starbucks and my card...</td>\n",
       "      <td>5.0</td>\n",
       "    </tr>\n",
       "    <tr>\n",
       "      <th>4</th>\n",
       "      <td>I’m on this kick of drinking 5 cups of warm wa...</td>\n",
       "      <td>5.0</td>\n",
       "    </tr>\n",
       "  </tbody>\n",
       "</table>\n",
       "</div>"
      ],
      "text/plain": [
       "                                              Review  Rating\n",
       "0  Amber and LaDonna at the Starbucks on Southwes...     5.0\n",
       "1  ** at the Starbucks by the fire station on 436...     5.0\n",
       "2  I just wanted to go out of my way to recognize...     5.0\n",
       "3  Me and my friend were at Starbucks and my card...     5.0\n",
       "4  I’m on this kick of drinking 5 cups of warm wa...     5.0"
      ]
     },
     "execution_count": 9,
     "metadata": {},
     "output_type": "execute_result"
    }
   ],
   "source": [
    "txtdf=df1[['Review','Rating']]\n",
    "txtdf.head()"
   ]
  },
  {
   "cell_type": "code",
   "execution_count": 10,
   "id": "a01912bd",
   "metadata": {},
   "outputs": [],
   "source": [
    "def clean(text):\n",
    "    text = re.sub('[^a-zA-Z]', ' ', str(text).lower().strip())\n",
    "    text = re.sub('@[A-Za-z0-9_]+', '', text) \n",
    "    text = re.sub('#','',text) \n",
    "    text = re.sub('RT[\\s]+','',text)\n",
    "    text = re.sub('https?:\\/\\/\\S+', '', text) \n",
    "    text = re.sub('\\n',' ',text)\n",
    "    text = emoji.replace_emoji(text, replace='')\n",
    "    return text"
   ]
  },
  {
   "cell_type": "code",
   "execution_count": 11,
   "id": "92d7afac",
   "metadata": {},
   "outputs": [
    {
     "name": "stderr",
     "output_type": "stream",
     "text": [
      "C:\\Users\\kasir\\AppData\\Local\\Temp\\ipykernel_16424\\2520822112.py:1: SettingWithCopyWarning: \n",
      "A value is trying to be set on a copy of a slice from a DataFrame.\n",
      "Try using .loc[row_indexer,col_indexer] = value instead\n",
      "\n",
      "See the caveats in the documentation: https://pandas.pydata.org/pandas-docs/stable/user_guide/indexing.html#returning-a-view-versus-a-copy\n",
      "  txtdf['Review']=txtdf['Review'].apply(clean)\n"
     ]
    }
   ],
   "source": [
    "txtdf['Review']=txtdf['Review'].apply(clean)"
   ]
  },
  {
   "cell_type": "code",
   "execution_count": 12,
   "id": "361c8b99",
   "metadata": {},
   "outputs": [
    {
     "data": {
      "text/html": [
       "<div>\n",
       "<style scoped>\n",
       "    .dataframe tbody tr th:only-of-type {\n",
       "        vertical-align: middle;\n",
       "    }\n",
       "\n",
       "    .dataframe tbody tr th {\n",
       "        vertical-align: top;\n",
       "    }\n",
       "\n",
       "    .dataframe thead th {\n",
       "        text-align: right;\n",
       "    }\n",
       "</style>\n",
       "<table border=\"1\" class=\"dataframe\">\n",
       "  <thead>\n",
       "    <tr style=\"text-align: right;\">\n",
       "      <th></th>\n",
       "      <th>Review</th>\n",
       "      <th>Rating</th>\n",
       "    </tr>\n",
       "  </thead>\n",
       "  <tbody>\n",
       "    <tr>\n",
       "      <th>0</th>\n",
       "      <td>amber and ladonna at the starbucks on southwes...</td>\n",
       "      <td>5.0</td>\n",
       "    </tr>\n",
       "    <tr>\n",
       "      <th>1</th>\n",
       "      <td>at the starbucks by the fire station on    ...</td>\n",
       "      <td>5.0</td>\n",
       "    </tr>\n",
       "    <tr>\n",
       "      <th>2</th>\n",
       "      <td>i just wanted to go out of my way to recognize...</td>\n",
       "      <td>5.0</td>\n",
       "    </tr>\n",
       "    <tr>\n",
       "      <th>3</th>\n",
       "      <td>me and my friend were at starbucks and my card...</td>\n",
       "      <td>5.0</td>\n",
       "    </tr>\n",
       "    <tr>\n",
       "      <th>4</th>\n",
       "      <td>i m on this kick of drinking   cups of warm wa...</td>\n",
       "      <td>5.0</td>\n",
       "    </tr>\n",
       "    <tr>\n",
       "      <th>...</th>\n",
       "      <td>...</td>\n",
       "      <td>...</td>\n",
       "    </tr>\n",
       "    <tr>\n",
       "      <th>841</th>\n",
       "      <td>when using my debit card  how much and for how...</td>\n",
       "      <td>NaN</td>\n",
       "    </tr>\n",
       "    <tr>\n",
       "      <th>842</th>\n",
       "      <td>i just bought a starbucks thermos mug about a ...</td>\n",
       "      <td>NaN</td>\n",
       "    </tr>\n",
       "    <tr>\n",
       "      <th>844</th>\n",
       "      <td>i m  was  a regular customer who ordered a lat...</td>\n",
       "      <td>NaN</td>\n",
       "    </tr>\n",
       "    <tr>\n",
       "      <th>845</th>\n",
       "      <td>i ordered two venti frappacino s without whipp...</td>\n",
       "      <td>NaN</td>\n",
       "    </tr>\n",
       "    <tr>\n",
       "      <th>847</th>\n",
       "      <td>demanded tips from me  then made me wait until...</td>\n",
       "      <td>NaN</td>\n",
       "    </tr>\n",
       "  </tbody>\n",
       "</table>\n",
       "<p>813 rows × 2 columns</p>\n",
       "</div>"
      ],
      "text/plain": [
       "                                                Review  Rating\n",
       "0    amber and ladonna at the starbucks on southwes...     5.0\n",
       "1       at the starbucks by the fire station on    ...     5.0\n",
       "2    i just wanted to go out of my way to recognize...     5.0\n",
       "3    me and my friend were at starbucks and my card...     5.0\n",
       "4    i m on this kick of drinking   cups of warm wa...     5.0\n",
       "..                                                 ...     ...\n",
       "841  when using my debit card  how much and for how...     NaN\n",
       "842  i just bought a starbucks thermos mug about a ...     NaN\n",
       "844  i m  was  a regular customer who ordered a lat...     NaN\n",
       "845  i ordered two venti frappacino s without whipp...     NaN\n",
       "847  demanded tips from me  then made me wait until...     NaN\n",
       "\n",
       "[813 rows x 2 columns]"
      ]
     },
     "execution_count": 12,
     "metadata": {},
     "output_type": "execute_result"
    }
   ],
   "source": [
    "txtdf"
   ]
  },
  {
   "cell_type": "code",
   "execution_count": 13,
   "id": "23368d67",
   "metadata": {},
   "outputs": [
    {
     "name": "stderr",
     "output_type": "stream",
     "text": [
      "C:\\Users\\kasir\\AppData\\Local\\Temp\\ipykernel_16424\\2392683827.py:1: SettingWithCopyWarning: \n",
      "A value is trying to be set on a copy of a slice from a DataFrame\n",
      "\n",
      "See the caveats in the documentation: https://pandas.pydata.org/pandas-docs/stable/user_guide/indexing.html#returning-a-view-versus-a-copy\n",
      "  txtdf.dropna(inplace=True)\n"
     ]
    },
    {
     "data": {
      "text/html": [
       "<div>\n",
       "<style scoped>\n",
       "    .dataframe tbody tr th:only-of-type {\n",
       "        vertical-align: middle;\n",
       "    }\n",
       "\n",
       "    .dataframe tbody tr th {\n",
       "        vertical-align: top;\n",
       "    }\n",
       "\n",
       "    .dataframe thead th {\n",
       "        text-align: right;\n",
       "    }\n",
       "</style>\n",
       "<table border=\"1\" class=\"dataframe\">\n",
       "  <thead>\n",
       "    <tr style=\"text-align: right;\">\n",
       "      <th></th>\n",
       "      <th>Review</th>\n",
       "      <th>Rating</th>\n",
       "    </tr>\n",
       "  </thead>\n",
       "  <tbody>\n",
       "    <tr>\n",
       "      <th>0</th>\n",
       "      <td>amber and ladonna at the starbucks on southwes...</td>\n",
       "      <td>5.0</td>\n",
       "    </tr>\n",
       "    <tr>\n",
       "      <th>1</th>\n",
       "      <td>at the starbucks by the fire station on    ...</td>\n",
       "      <td>5.0</td>\n",
       "    </tr>\n",
       "    <tr>\n",
       "      <th>2</th>\n",
       "      <td>i just wanted to go out of my way to recognize...</td>\n",
       "      <td>5.0</td>\n",
       "    </tr>\n",
       "    <tr>\n",
       "      <th>3</th>\n",
       "      <td>me and my friend were at starbucks and my card...</td>\n",
       "      <td>5.0</td>\n",
       "    </tr>\n",
       "    <tr>\n",
       "      <th>4</th>\n",
       "      <td>i m on this kick of drinking   cups of warm wa...</td>\n",
       "      <td>5.0</td>\n",
       "    </tr>\n",
       "    <tr>\n",
       "      <th>...</th>\n",
       "      <td>...</td>\n",
       "      <td>...</td>\n",
       "    </tr>\n",
       "    <tr>\n",
       "      <th>700</th>\n",
       "      <td>i ordered via starbucks coffee online  i recei...</td>\n",
       "      <td>1.0</td>\n",
       "    </tr>\n",
       "    <tr>\n",
       "      <th>701</th>\n",
       "      <td>my name is ric     i am journalist by professi...</td>\n",
       "      <td>3.0</td>\n",
       "    </tr>\n",
       "    <tr>\n",
       "      <th>702</th>\n",
       "      <td>the bagel was ice cold  not cut and not toasted</td>\n",
       "      <td>1.0</td>\n",
       "    </tr>\n",
       "    <tr>\n",
       "      <th>703</th>\n",
       "      <td>in the morning of monday  august           at ...</td>\n",
       "      <td>1.0</td>\n",
       "    </tr>\n",
       "    <tr>\n",
       "      <th>749</th>\n",
       "      <td>i found the coffee at starbucks overrated and ...</td>\n",
       "      <td>5.0</td>\n",
       "    </tr>\n",
       "  </tbody>\n",
       "</table>\n",
       "<p>703 rows × 2 columns</p>\n",
       "</div>"
      ],
      "text/plain": [
       "                                                Review  Rating\n",
       "0    amber and ladonna at the starbucks on southwes...     5.0\n",
       "1       at the starbucks by the fire station on    ...     5.0\n",
       "2    i just wanted to go out of my way to recognize...     5.0\n",
       "3    me and my friend were at starbucks and my card...     5.0\n",
       "4    i m on this kick of drinking   cups of warm wa...     5.0\n",
       "..                                                 ...     ...\n",
       "700  i ordered via starbucks coffee online  i recei...     1.0\n",
       "701  my name is ric     i am journalist by professi...     3.0\n",
       "702   the bagel was ice cold  not cut and not toasted      1.0\n",
       "703  in the morning of monday  august           at ...     1.0\n",
       "749  i found the coffee at starbucks overrated and ...     5.0\n",
       "\n",
       "[703 rows x 2 columns]"
      ]
     },
     "execution_count": 13,
     "metadata": {},
     "output_type": "execute_result"
    }
   ],
   "source": [
    "txtdf.dropna(inplace=True)\n",
    "txtdf"
   ]
  },
  {
   "cell_type": "code",
   "execution_count": 14,
   "id": "920982be",
   "metadata": {},
   "outputs": [],
   "source": [
    "txtdf.reset_index(inplace=True)"
   ]
  },
  {
   "cell_type": "code",
   "execution_count": 15,
   "id": "70b608a7",
   "metadata": {},
   "outputs": [
    {
     "name": "stderr",
     "output_type": "stream",
     "text": [
      "C:\\Users\\kasir\\AppData\\Local\\Temp\\ipykernel_16424\\1006121447.py:2: SettingWithCopyWarning: \n",
      "A value is trying to be set on a copy of a slice from a DataFrame.\n",
      "Try using .loc[row_indexer,col_indexer] = value instead\n",
      "\n",
      "See the caveats in the documentation: https://pandas.pydata.org/pandas-docs/stable/user_guide/indexing.html#returning-a-view-versus-a-copy\n",
      "  txtdf['Rating'] = le.fit_transform(txtdf['Rating'])\n"
     ]
    }
   ],
   "source": [
    "le=LabelEncoder()\n",
    "txtdf['Rating'] = le.fit_transform(txtdf['Rating'])"
   ]
  },
  {
   "cell_type": "code",
   "execution_count": 16,
   "id": "6212fb4a",
   "metadata": {
    "scrolled": true
   },
   "outputs": [
    {
     "name": "stderr",
     "output_type": "stream",
     "text": [
      "C:\\Users\\kasir\\AppData\\Local\\Temp\\ipykernel_16424\\1466972264.py:8: SettingWithCopyWarning: \n",
      "A value is trying to be set on a copy of a slice from a DataFrame\n",
      "\n",
      "See the caveats in the documentation: https://pandas.pydata.org/pandas-docs/stable/user_guide/indexing.html#returning-a-view-versus-a-copy\n",
      "  txtdf['Review'][i] = review\n"
     ]
    },
    {
     "data": {
      "text/plain": [
       "'charge chai tea latte train employee make store make way horrific experience today starbucks riverside ca literally give boiling milk asked add tea lady store asked want syrup hell customer know using secret syrup make chai tea latte repeatedly asked need tea course got angry walk away boiling milk first make worst chai tea latte still drinking make worst exploit customer like hopefully somebody see take necessary action'"
      ]
     },
     "execution_count": 16,
     "metadata": {},
     "output_type": "execute_result"
    }
   ],
   "source": [
    "lem = WordNetLemmatizer()\n",
    "corpus=[]\n",
    "for i in range(0, len(txtdf)):\n",
    "    review = txtdf['Review'][i]\n",
    "    review = word_tokenize(review)\n",
    "    review = [lem.lemmatize(word) for word in review if not word in stopwords.words('english')]\n",
    "    review = ' '.join(review)\n",
    "    txtdf['Review'][i] = review\n",
    "    corpus.append(review)\n",
    "txtdf['Review'][175]"
   ]
  },
  {
   "cell_type": "code",
   "execution_count": 17,
   "id": "76cdf4b4",
   "metadata": {},
   "outputs": [
    {
     "data": {
      "text/plain": [
       "30641"
      ]
     },
     "execution_count": 17,
     "metadata": {},
     "output_type": "execute_result"
    }
   ],
   "source": [
    "def count_words(text):\n",
    "    tokens = word_tokenize(text)  # Tokenize the text\n",
    "    return len(tokens)\n",
    "totwords = txtdf['Review'].apply(count_words).sum()\n",
    "totwords"
   ]
  },
  {
   "cell_type": "code",
   "execution_count": 18,
   "id": "b13042e8",
   "metadata": {},
   "outputs": [],
   "source": [
    "X = txtdf['Review']\n",
    "Y = txtdf['Rating']"
   ]
  },
  {
   "cell_type": "code",
   "execution_count": 19,
   "id": "31d3277c",
   "metadata": {},
   "outputs": [
    {
     "data": {
      "text/plain": [
       "0      4\n",
       "1      4\n",
       "2      4\n",
       "3      4\n",
       "4      4\n",
       "      ..\n",
       "698    0\n",
       "699    2\n",
       "700    0\n",
       "701    0\n",
       "702    4\n",
       "Name: Rating, Length: 703, dtype: int64"
      ]
     },
     "execution_count": 19,
     "metadata": {},
     "output_type": "execute_result"
    }
   ],
   "source": [
    "Y"
   ]
  },
  {
   "cell_type": "code",
   "execution_count": 20,
   "id": "3378ee3e",
   "metadata": {},
   "outputs": [],
   "source": [
    "x_train, x_test, y_train, y_test = train_test_split(X, Y, test_size=0.15, random_state=42)"
   ]
  },
  {
   "cell_type": "code",
   "execution_count": 21,
   "id": "b950c549",
   "metadata": {},
   "outputs": [
    {
     "data": {
      "text/plain": [
       "294    never get drink wrong employee friendly profes...\n",
       "210    sure distribution center starbucks north carol...\n",
       "619    balance showing card every time looked quite t...\n",
       "507    everyday morning drink dark roast coffee starb...\n",
       "404    week ago mother like every morning go starbuck...\n",
       "                             ...                        \n",
       "71     visited starbucks flowood mississippi may youn...\n",
       "106    sept around pm starbucks sherway garden toront...\n",
       "270    expensive good drink like food big variety ple...\n",
       "435    buy smoothy different place time change bought...\n",
       "102    could give corporate office star would wheneve...\n",
       "Name: Review, Length: 597, dtype: object"
      ]
     },
     "execution_count": 21,
     "metadata": {},
     "output_type": "execute_result"
    }
   ],
   "source": [
    "x_train"
   ]
  },
  {
   "cell_type": "markdown",
   "id": "228ae875",
   "metadata": {},
   "source": [
    " TfidfVectorizer"
   ]
  },
  {
   "cell_type": "code",
   "execution_count": 22,
   "id": "afdbec2b",
   "metadata": {},
   "outputs": [],
   "source": [
    "tfidfvec = TfidfVectorizer()"
   ]
  },
  {
   "cell_type": "code",
   "execution_count": 23,
   "id": "51fae613",
   "metadata": {},
   "outputs": [],
   "source": [
    "tfidf_matrix = tfidfvec.fit_transform(corpus)"
   ]
  },
  {
   "cell_type": "code",
   "execution_count": 24,
   "id": "c0dc6db5",
   "metadata": {},
   "outputs": [],
   "source": [
    "xtrtfidf = tfidfvec.fit_transform(x_train)\n",
    "xtsttfidf = tfidfvec.transform(x_test)"
   ]
  },
  {
   "cell_type": "markdown",
   "id": "157d713e",
   "metadata": {},
   "source": [
    "## XGBClassifier"
   ]
  },
  {
   "cell_type": "code",
   "execution_count": 25,
   "id": "a5dd36d1",
   "metadata": {},
   "outputs": [
    {
     "data": {
      "text/plain": [
       "XGBClassifier(base_score=0.5, booster='gbtree', callbacks=None,\n",
       "              colsample_bylevel=1, colsample_bynode=1, colsample_bytree=1,\n",
       "              early_stopping_rounds=None, enable_categorical=False,\n",
       "              eval_metric=None, feature_types=None, gamma=0, gpu_id=-1,\n",
       "              grow_policy='depthwise', importance_type=None,\n",
       "              interaction_constraints='', learning_rate=0.300000012,\n",
       "              max_bin=256, max_cat_threshold=64, max_cat_to_onehot=4,\n",
       "              max_delta_step=0, max_depth=6, max_leaves=0, min_child_weight=1,\n",
       "              missing=nan, monotone_constraints='()', n_estimators=100,\n",
       "              n_jobs=0, num_parallel_tree=1, objective='multi:softprob',\n",
       "              predictor='auto', ...)"
      ]
     },
     "execution_count": 25,
     "metadata": {},
     "output_type": "execute_result"
    }
   ],
   "source": [
    "cls = XGBClassifier()\n",
    "cls.fit(xtrtfidf, y_train)"
   ]
  },
  {
   "cell_type": "code",
   "execution_count": 26,
   "id": "973c6e2d",
   "metadata": {},
   "outputs": [],
   "source": [
    "xtsttfidf = tfidfvec.transform(x_test)\n",
    "ypred = cls.predict(xtsttfidf)"
   ]
  },
  {
   "cell_type": "code",
   "execution_count": 27,
   "id": "c822e8dd",
   "metadata": {},
   "outputs": [
    {
     "name": "stderr",
     "output_type": "stream",
     "text": [
      "C:\\Users\\kasir\\miniconda3\\lib\\site-packages\\sklearn\\metrics\\_classification.py:1248: UndefinedMetricWarning: Precision and F-score are ill-defined and being set to 0.0 in labels with no predicted samples. Use `zero_division` parameter to control this behavior.\n",
      "  _warn_prf(average, modifier, msg_start, len(result))\n",
      "C:\\Users\\kasir\\miniconda3\\lib\\site-packages\\sklearn\\metrics\\_classification.py:1248: UndefinedMetricWarning: Precision and F-score are ill-defined and being set to 0.0 in labels with no predicted samples. Use `zero_division` parameter to control this behavior.\n",
      "  _warn_prf(average, modifier, msg_start, len(result))\n",
      "C:\\Users\\kasir\\miniconda3\\lib\\site-packages\\sklearn\\metrics\\_classification.py:1248: UndefinedMetricWarning: Precision and F-score are ill-defined and being set to 0.0 in labels with no predicted samples. Use `zero_division` parameter to control this behavior.\n",
      "  _warn_prf(average, modifier, msg_start, len(result))\n"
     ]
    }
   ],
   "source": [
    "accuracy = accuracy_score(y_test, ypred)\n",
    "report = classification_report(y_test, ypred)"
   ]
  },
  {
   "cell_type": "code",
   "execution_count": 28,
   "id": "a73c07a2",
   "metadata": {},
   "outputs": [
    {
     "name": "stdout",
     "output_type": "stream",
     "text": [
      "Accuracy: 0.6132075471698113\n",
      "Classification Report:\n",
      "               precision    recall  f1-score   support\n",
      "\n",
      "           0       0.66      0.95      0.78        61\n",
      "           1       0.00      0.00      0.00        17\n",
      "           2       0.00      0.00      0.00         6\n",
      "           3       0.00      0.00      0.00         7\n",
      "           4       0.64      0.47      0.54        15\n",
      "\n",
      "    accuracy                           0.61       106\n",
      "   macro avg       0.26      0.28      0.26       106\n",
      "weighted avg       0.47      0.61      0.52       106\n",
      "\n"
     ]
    }
   ],
   "source": [
    "print(\"accuracy:\", accuracy)\n",
    "print(\"classification report:\\n\", report)"
   ]
  },
  {
   "cell_type": "markdown",
   "id": "3c658805",
   "metadata": {},
   "source": [
    "## LSTM model"
   ]
  },
  {
   "cell_type": "code",
   "execution_count": 29,
   "id": "1a026b2b",
   "metadata": {},
   "outputs": [],
   "source": [
    "tokenizer = Tokenizer(num_words=totwords, oov_token='<OOV>') \n",
    "tokenizer.fit_on_texts(x_train) "
   ]
  },
  {
   "cell_type": "code",
   "execution_count": 30,
   "id": "6674097b",
   "metadata": {},
   "outputs": [],
   "source": [
    "train_seq = tokenizer.texts_to_sequences(x_train) \n",
    "test_seq = tokenizer.texts_to_sequences(x_test) \n",
    "  \n",
    "train_pad = pad_sequences(train_seq, \n",
    "                          maxlen=40, \n",
    "                          truncating=\"post\", \n",
    "                          padding=\"post\") \n",
    "test_pad = pad_sequences(test_seq, \n",
    "                         maxlen=40, \n",
    "                         truncating=\"post\", \n",
    "                         padding=\"post\") "
   ]
  },
  {
   "cell_type": "code",
   "execution_count": 36,
   "id": "f2207e32",
   "metadata": {},
   "outputs": [
    {
     "name": "stdout",
     "output_type": "stream",
     "text": [
      "Model: \"sequential_2\"\n",
      "_________________________________________________________________\n",
      " Layer (type)                Output Shape              Param #   \n",
      "=================================================================\n",
      " embedding_2 (Embedding)     (None, None, 64)          1961024   \n",
      "                                                                 \n",
      " lstm_3 (LSTM)               (None, None, 128)         98816     \n",
      "                                                                 \n",
      " dropout_1 (Dropout)         (None, None, 128)         0         \n",
      "                                                                 \n",
      " lstm_4 (LSTM)               (None, 64)                49408     \n",
      "                                                                 \n",
      " dense_2 (Dense)             (None, 5)                 325       \n",
      "                                                                 \n",
      "=================================================================\n",
      "Total params: 2,109,573\n",
      "Trainable params: 2,109,573\n",
      "Non-trainable params: 0\n",
      "_________________________________________________________________\n"
     ]
    }
   ],
   "source": [
    "model=Sequential()\n",
    "model.add(Embedding(input_dim=totwords,output_dim=64))\n",
    "model.add(LSTM(128,return_sequences=True))\n",
    "model.add(Dropout(0.2))\n",
    "model.add(LSTM(64))\n",
    "model.add(Dense(5, activation=\"softmax\")) \n",
    "model.summary()"
   ]
  },
  {
   "cell_type": "code",
   "execution_count": 37,
   "id": "aec4ca64",
   "metadata": {
    "scrolled": true
   },
   "outputs": [
    {
     "name": "stdout",
     "output_type": "stream",
     "text": [
      "Epoch 1/10\n",
      "19/19 [==============================] - 10s 162ms/step - loss: 1.2158 - accuracy: 0.6231\n",
      "Epoch 2/10\n",
      "19/19 [==============================] - 3s 150ms/step - loss: 1.0410 - accuracy: 0.6683\n",
      "Epoch 3/10\n",
      "19/19 [==============================] - 3s 159ms/step - loss: 0.9348 - accuracy: 0.6985\n",
      "Epoch 4/10\n",
      "19/19 [==============================] - 3s 161ms/step - loss: 0.7514 - accuracy: 0.7404\n",
      "Epoch 5/10\n",
      "19/19 [==============================] - 3s 172ms/step - loss: 0.6618 - accuracy: 0.7504\n",
      "Epoch 6/10\n",
      "19/19 [==============================] - 3s 173ms/step - loss: 0.5871 - accuracy: 0.7672\n",
      "Epoch 7/10\n",
      "19/19 [==============================] - 3s 166ms/step - loss: 0.4688 - accuracy: 0.8224\n",
      "Epoch 8/10\n",
      "19/19 [==============================] - 3s 176ms/step - loss: 0.4707 - accuracy: 0.8375\n",
      "Epoch 9/10\n",
      "19/19 [==============================] - 3s 167ms/step - loss: 0.4225 - accuracy: 0.8375\n",
      "Epoch 10/10\n",
      "19/19 [==============================] - 3s 171ms/step - loss: 0.3446 - accuracy: 0.8693\n"
     ]
    }
   ],
   "source": [
    "model.compile(\"RMSprop\",\"sparse_categorical_crossentropy\",metrics=[\"accuracy\"]) \n",
    "history = model.fit(train_pad,y_train,epochs=10) "
   ]
  },
  {
   "cell_type": "markdown",
   "id": "1ccfaaf2",
   "metadata": {},
   "source": [
    "## Biderectional GRU model"
   ]
  },
  {
   "cell_type": "code",
   "execution_count": 40,
   "id": "dafbdc43",
   "metadata": {},
   "outputs": [
    {
     "name": "stdout",
     "output_type": "stream",
     "text": [
      "Model: \"sequential_4\"\n",
      "_________________________________________________________________\n",
      " Layer (type)                Output Shape              Param #   \n",
      "=================================================================\n",
      " embedding_4 (Embedding)     (None, None, 64)          1961024   \n",
      "                                                                 \n",
      " bidirectional_2 (Bidirectio  (None, None, 128)        49920     \n",
      " nal)                                                            \n",
      "                                                                 \n",
      " bidirectional_3 (Bidirectio  (None, 128)              74496     \n",
      " nal)                                                            \n",
      "                                                                 \n",
      " dense_5 (Dense)             (None, 128)               16512     \n",
      "                                                                 \n",
      " dropout_3 (Dropout)         (None, 128)               0         \n",
      "                                                                 \n",
      " dense_6 (Dense)             (None, 5)                 645       \n",
      "                                                                 \n",
      "=================================================================\n",
      "Total params: 2,102,597\n",
      "Trainable params: 2,102,597\n",
      "Non-trainable params: 0\n",
      "_________________________________________________________________\n"
     ]
    }
   ],
   "source": [
    "model1=Sequential()\n",
    "model1.add(Embedding(input_dim=totwords,output_dim=64))\n",
    "model1.add(Bidirectional(GRU(64, return_sequences=True))) \n",
    "model1.add(Bidirectional(GRU(64))) \n",
    "model1.add(Dense(128, activation=\"relu\")) \n",
    "model1.add(Dropout(0.4)) \n",
    "model1.add(Dense(5, activation=\"softmax\")) \n",
    "model1.summary()"
   ]
  },
  {
   "cell_type": "code",
   "execution_count": 41,
   "id": "7b59c098",
   "metadata": {},
   "outputs": [
    {
     "name": "stdout",
     "output_type": "stream",
     "text": [
      "Epoch 1/10\n",
      "19/19 [==============================] - 16s 173ms/step - loss: 1.2736 - accuracy: 0.6265\n",
      "Epoch 2/10\n",
      "19/19 [==============================] - 3s 149ms/step - loss: 1.0711 - accuracy: 0.6516\n",
      "Epoch 3/10\n",
      "19/19 [==============================] - 3s 153ms/step - loss: 0.9746 - accuracy: 0.6583\n",
      "Epoch 4/10\n",
      "19/19 [==============================] - 3s 150ms/step - loss: 0.7966 - accuracy: 0.7219\n",
      "Epoch 5/10\n",
      "19/19 [==============================] - 3s 153ms/step - loss: 0.6290 - accuracy: 0.7487\n",
      "Epoch 6/10\n",
      "19/19 [==============================] - 3s 149ms/step - loss: 0.4875 - accuracy: 0.8074\n",
      "Epoch 7/10\n",
      "19/19 [==============================] - 3s 145ms/step - loss: 0.4250 - accuracy: 0.8174\n",
      "Epoch 8/10\n",
      "19/19 [==============================] - 3s 144ms/step - loss: 0.3560 - accuracy: 0.8710\n",
      "Epoch 9/10\n",
      "19/19 [==============================] - 3s 146ms/step - loss: 0.2708 - accuracy: 0.8777\n",
      "Epoch 10/10\n",
      "19/19 [==============================] - 3s 147ms/step - loss: 0.3009 - accuracy: 0.8794\n"
     ]
    }
   ],
   "source": [
    "model1.compile(\"RMSprop\",\"sparse_categorical_crossentropy\",metrics=[\"accuracy\"]) \n",
    "history = model1.fit(train_pad,y_train,epochs=10) "
   ]
  },
  {
   "cell_type": "code",
   "execution_count": null,
   "id": "5ca3f77c",
   "metadata": {},
   "outputs": [],
   "source": []
  }
 ],
 "metadata": {
  "kernelspec": {
   "display_name": "Python 3 (ipykernel)",
   "language": "python",
   "name": "python3"
  },
  "language_info": {
   "codemirror_mode": {
    "name": "ipython",
    "version": 3
   },
   "file_extension": ".py",
   "mimetype": "text/x-python",
   "name": "python",
   "nbconvert_exporter": "python",
   "pygments_lexer": "ipython3",
   "version": "3.9.12"
  }
 },
 "nbformat": 4,
 "nbformat_minor": 5
}
